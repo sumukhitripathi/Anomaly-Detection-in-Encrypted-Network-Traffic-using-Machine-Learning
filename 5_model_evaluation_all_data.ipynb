{
 "cells": [
  {
   "cell_type": "code",
   "execution_count": 9,
   "id": "84a2e876",
   "metadata": {},
   "outputs": [
    {
     "data": {
      "text/plain": [
       "'\\nModel Build & Evaluation using algorithms like:\\nRandom Forest Classifier\\nLogistic Regression\\nSVM\\n'"
      ]
     },
     "execution_count": 9,
     "metadata": {},
     "output_type": "execute_result"
    }
   ],
   "source": [
    "'''\n",
    "Model Build & Evaluation using algorithms like:\n",
    "Random Forest Classifier\n",
    "Logistic Regression\n",
    "SVM\n",
    "'''"
   ]
  },
  {
   "cell_type": "code",
   "execution_count": 10,
   "id": "5e6929f2",
   "metadata": {},
   "outputs": [
    {
     "name": "stdout",
     "output_type": "stream",
     "text": [
      "\n",
      "Evaluating: Random Forest\n",
      "Accuracy: 0.9449, Precision: 0.9156, Recall: 0.9058, Time: 3942.87s\n",
      "\n",
      "Evaluating: Logistic Regression\n",
      "Accuracy: 0.8516, Precision: 0.7237, Recall: 0.6665, Time: 21224.7s\n",
      "\n",
      "Evaluating: Linear SVM\n",
      "Accuracy: 0.8636, Precision: 0.7210, Recall: 0.6713, Time: 734.76s\n",
      "\n",
      "Operation completed in 29885.53 seconds.\n"
     ]
    }
   ],
   "source": [
    "import numpy as np\n",
    "import pandas as pd\n",
    "import matplotlib.pyplot as plt\n",
    "import os\n",
    "import csv\n",
    "import time\n",
    "import warnings\n",
    "from sklearn.model_selection import cross_validate\n",
    "from sklearn.ensemble import RandomForestClassifier\n",
    "from sklearn.linear_model import LogisticRegression\n",
    "from sklearn.svm import LinearSVC\n",
    "from sklearn.preprocessing import LabelEncoder\n",
    "from sklearn.metrics import make_scorer, accuracy_score, precision_score, recall_score\n",
    "import joblib\n",
    "\n",
    "warnings.filterwarnings(\"ignore\")\n",
    "start_time = time.time()\n",
    "\n",
    "# Create result folder\n",
    "def create_folder(f_name):\n",
    "    try:\n",
    "        if not os.path.exists(f_name):\n",
    "            os.makedirs(f_name)\n",
    "    except OSError:\n",
    "        print(\"Couldn't make folder\")\n",
    "\n",
    "create_folder(\"Result\")\n",
    "\n",
    "# Top 20 features + Label\n",
    "cols = [\"Bwd Packet Length Std\", \"Flow Bytes/s\", \"Total Length of Fwd Packets\", \"Fwd Packet Length Std\",\n",
    "        \"Flow IAT Std\", \"Flow IAT Min\", \"Fwd IAT Total\", \"Flow Duration\", \"Bwd Packet Length Max\",\n",
    "        \"Flow IAT Max\", \"Flow IAT Mean\", \"Total Length of Bwd Packets\", \"Fwd Packet Length Min\",\n",
    "        \"Bwd Packet Length Mean\", \"Flow Packets/s\", \"Fwd Packet Length Mean\", \"Total Backward Packets\",\n",
    "        \"Fwd Packet Length Max\", \"Total Fwd Packets\", \"Bwd Packet Length Min\", 'Label']\n",
    "\n",
    "data_file = \"merged.csv\"\n",
    "\n",
    "df = pd.read_csv(data_file, usecols=cols)\n",
    "df = df.fillna(0)\n",
    "df['Label'] = df['Label'].apply(lambda x: 1 if x == \"BENIGN\" else 0)\n",
    "\n",
    "\n",
    "# Feature and label split\n",
    "X = df.drop(\"Label\", axis=1)\n",
    "y = df[\"Label\"]\n",
    "\n",
    "# Models to evaluate\n",
    "models = {\n",
    "    \"Random Forest\": RandomForestClassifier(n_estimators=100, n_jobs=-1, random_state=42),\n",
    "    \"Logistic Regression\": LogisticRegression(max_iter=1000, n_jobs=-1, random_state=42),\n",
    "    \"Linear SVM\": LinearSVC(max_iter=1000, random_state=42)\n",
    "}\n",
    "\n",
    "# Metrics\n",
    "scoring = {\n",
    "    'accuracy': make_scorer(accuracy_score),\n",
    "    'precision': make_scorer(precision_score, average='macro'),\n",
    "    'recall': make_scorer(recall_score, average='macro')\n",
    "}\n",
    "\n",
    "# Write header to CSV\n",
    "results_path = \"Result/results.csv\"\n",
    "with open(results_path, \"w\", newline=\"\", encoding=\"utf-8\") as f:\n",
    "    writer = csv.writer(f)\n",
    "    writer.writerow([\"Model\", \"Mean Accuracy\", \"Mean Precision\", \"Mean Recall\", \"Time Taken (s)\"])\n",
    "\n",
    "# Evaluate each model\n",
    "for model_name, model in models.items():\n",
    "    print(f\"\\nEvaluating: {model_name}\")\n",
    "    start = time.time()\n",
    "    results = cross_validate(model, X, y, cv=5, scoring=scoring, n_jobs=-1)\n",
    "    end = time.time()\n",
    "\n",
    "    mean_acc = np.mean(results[\"test_accuracy\"])\n",
    "    mean_prec = np.mean(results[\"test_precision\"])\n",
    "    mean_rec = np.mean(results[\"test_recall\"])\n",
    "    duration = round(end - start, 2)\n",
    "\n",
    "    print(f\"Accuracy: {mean_acc:.4f}, Precision: {mean_prec:.4f}, Recall: {mean_rec:.4f}, Time: {duration}s\")\n",
    "\n",
    "    # Save to CSV\n",
    "    with open(results_path, \"a\", newline=\"\", encoding=\"utf-8\") as f:\n",
    "        writer = csv.writer(f)\n",
    "        writer.writerow([model_name, round(mean_acc, 4), round(mean_prec, 4), round(mean_rec, 4), duration])\n",
    "\n",
    "    # Save trained model\n",
    "    model.fit(X, y)\n",
    "    joblib.dump(model, f\"Result/{model_name.replace(' ', '_')}.pkl\")\n",
    "\n",
    "print(\"\\nOperation completed in\", round(time.time() - start_time, 2), \"seconds.\")\n"
   ]
  }
 ],
 "metadata": {
  "kernelspec": {
   "display_name": "Python 3",
   "language": "python",
   "name": "python3"
  },
  "language_info": {
   "codemirror_mode": {
    "name": "ipython",
    "version": 3
   },
   "file_extension": ".py",
   "mimetype": "text/x-python",
   "name": "python",
   "nbconvert_exporter": "python",
   "pygments_lexer": "ipython3",
   "version": "3.10.0"
  }
 },
 "nbformat": 4,
 "nbformat_minor": 5
}
